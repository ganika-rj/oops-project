{
 "cells": [
  {
   "cell_type": "code",
   "execution_count": 13,
   "metadata": {},
   "outputs": [
    {
     "name": "stdout",
     "output_type": "stream",
     "text": [
      "name :Abi\n",
      "rollno :1\n",
      "address :chennai\n",
      "email :Abi12@gmail.com\n",
      "phoneno :6748930543\n",
      "course :CS\n",
      "Marks:  [70, 89, 73, 84, 95]\n",
      "Total:  411\n",
      "Average:  82.2\n"
     ]
    }
   ],
   "source": [
    "class personal():\n",
    "    def __init__(self,name,rollno,address,email,phoneno,course):\n",
    "        self.name=name\n",
    "        self.rollno=rollno\n",
    "        self.address=address\n",
    "        self.email=email\n",
    "        self.phoneno=phoneno\n",
    "        self.course=course\n",
    "    def display(self):\n",
    "       R=int(input(\"enter a rollno:\"))\n",
    "       for i in range(len(self.rollno)):\n",
    "           if (self.rollno[i])==R:\n",
    "               global sname\n",
    "               sname=self.name[i]\n",
    "               print(\"name :{}\".format(self.name[i])) \n",
    "               print(\"rollno :{}\".format(self.rollno[i]))\n",
    "               print(\"address :{}\".format(self.address[i]))\n",
    "               print(\"email :{}\".format(self.email[i]))\n",
    "               print(\"phoneno :{}\".format(self.phoneno[i]))\n",
    "               print(\"course :{}\".format(self.course[i]))  \n",
    "class official(personal):\n",
    "    def __init__(self,name,rollno,address,email,phoneno,course,marks,attendance):\n",
    "        personal.__init__(self,name,rollno,address,email,phoneno,course)\n",
    "        self.marks=marks\n",
    "        self.attendance=attendance\n",
    "    def result(self):\n",
    "        m={}\n",
    "        e={}\n",
    "        for i in range(len(self.name)):\n",
    "            m[self.name[i]]=self.marks[i]\n",
    "            e[self.name[i]]=self.email[i]\n",
    "        Pass=input(\"enter a password:\")\n",
    "        if e[sname]==Pass:\n",
    "            print(\"Marks: \",m[sname])\n",
    "            avg=sum(m[sname])/len(m[sname])\n",
    "            print(\"Total: \",sum(m[sname]))\n",
    "            print(\"Average: \",avg)\n",
    "    def sattendance(self):\n",
    "        d={}\n",
    "        for i in range(len(self.name)):\n",
    "            d[self.name[i]]=self.attendance[i]\n",
    "        print(\"Attendance: \",d[sname])\n",
    "        if d[sname]>75:\n",
    "            print(\" you are Eligible to write a exam\")\n",
    "        else:\n",
    "            print(\" you are not Eligible to write a exam\")    \n",
    "       \n",
    "name=[\"Abi\",\"madhu\",\"sam\",\"vishnu\",\"anu\"]\n",
    "rollno=[1,2,3,4,5]\n",
    "address=[\"chennai\",\"karur\",\"trichy\",\"cbe\",\"erode\"]\n",
    "email=[\"Abi12@gmail.com\",\"madhuR@gmail.com\",\"sam47@gmail.com\",\"vishnuval@gmail.com\",\"anu354@gmail.com\"]\n",
    "phoneno=[6748930543,9087342534,3456789235,6746377648,9856767867]\n",
    "course=[\"CS\",\"CT\",\"IT\",\"DS\",\"SS\"]\n",
    "marks=[[70,89,73,84,95],[92,68,74,99,75],[54,87,96,73,66],[95,80,93,69,77],[80,69,77,78,93]]\n",
    "attendance=[77,100,68,86,95]\n",
    "#a=personal(name,rollno,address,email,phoneno,course)\n",
    "b=official(name,rollno,address,email,phoneno,course,marks,attendance)\n",
    "b.display()\n",
    "choose=input(\"choose 1 for marks or choose 2 for attendance\")\n",
    "if choose==\"1\":\n",
    "    b.result() \n",
    "elif(choose)==\"2\":\n",
    "    b.sattendance()\n",
    "    "
   ]
  },
  {
   "cell_type": "code",
   "execution_count": null,
   "metadata": {},
   "outputs": [],
   "source": []
  }
 ],
 "metadata": {
  "kernelspec": {
   "display_name": "Python 3",
   "language": "python",
   "name": "python3"
  },
  "language_info": {
   "codemirror_mode": {
    "name": "ipython",
    "version": 3
   },
   "file_extension": ".py",
   "mimetype": "text/x-python",
   "name": "python",
   "nbconvert_exporter": "python",
   "pygments_lexer": "ipython3",
   "version": "3.12.0"
  }
 },
 "nbformat": 4,
 "nbformat_minor": 2
}
